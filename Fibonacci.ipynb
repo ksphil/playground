{
 "cells": [
  {
   "cell_type": "code",
   "execution_count": 38,
   "metadata": {},
   "outputs": [],
   "source": [
    "def fibonacci (n):\n",
    "    if n <= 2:\n",
    "        return 1\n",
    "    else: \n",
    "        return fibonacci(n-1)+fibonacci(n-2)\n",
    "def fibonacci2(n):\n",
    "    fn = list(range(n+1))\n",
    "    fn[0]=1\n",
    "    fn[1]=1\n",
    "    for i in range(2,n):\n",
    "        fn[i]=fn[i-1]+fn[i-2]\n",
    "    return fn[n-1]"
   ]
  },
  {
   "cell_type": "code",
   "execution_count": 8,
   "metadata": {},
   "outputs": [],
   "source": [
    "import time"
   ]
  },
  {
   "cell_type": "code",
   "execution_count": 58,
   "metadata": {},
   "outputs": [
    {
     "name": "stdout",
     "output_type": "stream",
     "text": [
      "9227465\n",
      "processing time: 3.246247 seconds\n"
     ]
    }
   ],
   "source": [
    "tic = time.perf_counter()\n",
    "A = fibonacci(35)\n",
    "toc = time.perf_counter()\n",
    "print(A)\n",
    "print(\"processing time: %0.4f seconds\" %(toc-tic))"
   ]
  },
  {
   "cell_type": "code",
   "execution_count": 59,
   "metadata": {},
   "outputs": [
    {
     "name": "stdout",
     "output_type": "stream",
     "text": [
      "9227465\n",
      "processing time: 0.0001 seconds\n"
     ]
    }
   ],
   "source": [
    "tic = time.perf_counter()\n",
    "B = fibonacci2(35)\n",
    "toc = time.perf_counter()\n",
    "print(B)\n",
    "print(\"processing time: %0.4f seconds\" %(toc-tic))"
   ]
  },
  {
   "cell_type": "code",
   "execution_count": null,
   "metadata": {},
   "outputs": [],
   "source": []
  }
 ],
 "metadata": {
  "kernelspec": {
   "display_name": "Python 3",
   "language": "python",
   "name": "python3"
  },
  "language_info": {
   "codemirror_mode": {
    "name": "ipython",
    "version": 3
   },
   "file_extension": ".py",
   "mimetype": "text/x-python",
   "name": "python",
   "nbconvert_exporter": "python",
   "pygments_lexer": "ipython3",
   "version": "3.7.5"
  }
 },
 "nbformat": 4,
 "nbformat_minor": 4
}
