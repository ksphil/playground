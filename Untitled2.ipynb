{
 "cells": [
  {
   "cell_type": "code",
   "execution_count": 19,
   "metadata": {},
   "outputs": [],
   "source": [
    "import matplotlib.pyplot as plt\n",
    "import numpy as np\n",
    "%matplotlib inline"
   ]
  },
  {
   "cell_type": "code",
   "execution_count": 28,
   "metadata": {},
   "outputs": [],
   "source": [
    "Num = np.random.normal(0,1,1000)"
   ]
  },
  {
   "cell_type": "code",
   "execution_count": 45,
   "metadata": {},
   "outputs": [
    {
     "data": {
      "text/plain": [
       "Text(0.5, 1.0, 'My Very Own Histogram')"
      ]
     },
     "execution_count": 45,
     "metadata": {},
     "output_type": "execute_result"
    },
    {
     "data": {
      "image/png": "[encoded data removed]",
      "text/plain": [
       "<Figure size 432x288 with 1 Axes>"
      ]
     },
     "metadata": {
      "needs_background": "light"
     },
     "output_type": "display_data"
    }
   ],
   "source": [
    "n, bins, patch =plt.hist(Num,10, color='blue',alpha=0.7, rwidth=0.85)\n",
    "plt.grid(axis='y', alpha=0.75)\n",
    "plt.xlabel('Value')\n",
    "plt.ylabel('Frequency')\n",
    "plt.title('My Very Own Histogram')"
   ]
  },
  {
   "cell_type": "code",
   "execution_count": 49,
   "metadata": {},
   "outputs": [
    {
     "name": "stdout",
     "output_type": "stream",
     "text": [
      "31 roll was 1-50, you lose.\n",
      "Funds: 9900\n",
      "72 roll was 51-99, you win! *pretty lights flash* (play more!)\n",
      "Funds: 10000\n",
      "7 roll was 1-50, you lose.\n",
      "Funds: 9900\n",
      "55 roll was 51-99, you win! *pretty lights flash* (play more!)\n",
      "Funds: 10000\n",
      "25 roll was 1-50, you lose.\n",
      "Funds: 9900\n",
      "21 roll was 1-50, you lose.\n",
      "Funds: 9800\n",
      "55 roll was 51-99, you win! *pretty lights flash* (play more!)\n",
      "Funds: 9900\n",
      "51 roll was 51-99, you win! *pretty lights flash* (play more!)\n",
      "Funds: 10000\n",
      "74 roll was 51-99, you win! *pretty lights flash* (play more!)\n",
      "Funds: 10100\n",
      "45 roll was 1-50, you lose.\n",
      "Funds: 10000\n",
      "93 roll was 51-99, you win! *pretty lights flash* (play more!)\n",
      "Funds: 10100\n",
      "92 roll was 51-99, you win! *pretty lights flash* (play more!)\n",
      "Funds: 10200\n",
      "16 roll was 1-50, you lose.\n",
      "Funds: 10100\n",
      "82 roll was 51-99, you win! *pretty lights flash* (play more!)\n",
      "Funds: 10200\n",
      "45 roll was 1-50, you lose.\n",
      "Funds: 10100\n",
      "40 roll was 1-50, you lose.\n",
      "Funds: 10000\n",
      "75 roll was 51-99, you win! *pretty lights flash* (play more!)\n",
      "Funds: 10100\n",
      "27 roll was 1-50, you lose.\n",
      "Funds: 10000\n",
      "80 roll was 51-99, you win! *pretty lights flash* (play more!)\n",
      "Funds: 10100\n",
      "46 roll was 1-50, you lose.\n",
      "Funds: 10000\n",
      "90 roll was 51-99, you win! *pretty lights flash* (play more!)\n",
      "Funds: 10100\n",
      "86 roll was 51-99, you win! *pretty lights flash* (play more!)\n",
      "Funds: 10200\n",
      "83 roll was 51-99, you win! *pretty lights flash* (play more!)\n",
      "Funds: 10300\n",
      "12 roll was 1-50, you lose.\n",
      "Funds: 10200\n",
      "96 roll was 51-99, you win! *pretty lights flash* (play more!)\n",
      "Funds: 10300\n",
      "50 roll was 1-50, you lose.\n",
      "Funds: 10200\n",
      "39 roll was 1-50, you lose.\n",
      "Funds: 10100\n",
      "29 roll was 1-50, you lose.\n",
      "Funds: 10000\n",
      "40 roll was 1-50, you lose.\n",
      "Funds: 9900\n",
      "90 roll was 51-99, you win! *pretty lights flash* (play more!)\n",
      "Funds: 10000\n",
      "85 roll was 51-99, you win! *pretty lights flash* (play more!)\n",
      "Funds: 10100\n",
      "90 roll was 51-99, you win! *pretty lights flash* (play more!)\n",
      "Funds: 10200\n",
      "60 roll was 51-99, you win! *pretty lights flash* (play more!)\n",
      "Funds: 10300\n",
      "81 roll was 51-99, you win! *pretty lights flash* (play more!)\n",
      "Funds: 10400\n",
      "81 roll was 51-99, you win! *pretty lights flash* (play more!)\n",
      "Funds: 10500\n",
      "26 roll was 1-50, you lose.\n",
      "Funds: 10400\n",
      "46 roll was 1-50, you lose.\n",
      "Funds: 10300\n",
      "31 roll was 1-50, you lose.\n",
      "Funds: 10200\n",
      "22 roll was 1-50, you lose.\n",
      "Funds: 10100\n",
      "93 roll was 51-99, you win! *pretty lights flash* (play more!)\n",
      "Funds: 10200\n",
      "62 roll was 51-99, you win! *pretty lights flash* (play more!)\n",
      "Funds: 10300\n",
      "20 roll was 1-50, you lose.\n",
      "Funds: 10200\n",
      "26 roll was 1-50, you lose.\n",
      "Funds: 10100\n",
      "80 roll was 51-99, you win! *pretty lights flash* (play more!)\n",
      "Funds: 10200\n",
      "18 roll was 1-50, you lose.\n",
      "Funds: 10100\n",
      "37 roll was 1-50, you lose.\n",
      "Funds: 10000\n",
      "89 roll was 51-99, you win! *pretty lights flash* (play more!)\n",
      "Funds: 10100\n",
      "48 roll was 1-50, you lose.\n",
      "Funds: 10000\n",
      "23 roll was 1-50, you lose.\n",
      "Funds: 9900\n",
      "19 roll was 1-50, you lose.\n",
      "Funds: 9800\n",
      "100 roll was 100, you lose. What are the odds?! Play again!\n",
      "Funds: 9700\n",
      "45 roll was 1-50, you lose.\n",
      "Funds: 9600\n",
      "70 roll was 51-99, you win! *pretty lights flash* (play more!)\n",
      "Funds: 9700\n",
      "87 roll was 51-99, you win! *pretty lights flash* (play more!)\n",
      "Funds: 9800\n",
      "38 roll was 1-50, you lose.\n",
      "Funds: 9700\n",
      "50 roll was 1-50, you lose.\n",
      "Funds: 9600\n",
      "12 roll was 1-50, you lose.\n",
      "Funds: 9500\n",
      "20 roll was 1-50, you lose.\n",
      "Funds: 9400\n",
      "67 roll was 51-99, you win! *pretty lights flash* (play more!)\n",
      "Funds: 9500\n",
      "64 roll was 51-99, you win! *pretty lights flash* (play more!)\n",
      "Funds: 9600\n",
      "51 roll was 51-99, you win! *pretty lights flash* (play more!)\n",
      "Funds: 9700\n",
      "27 roll was 1-50, you lose.\n",
      "Funds: 9600\n",
      "75 roll was 51-99, you win! *pretty lights flash* (play more!)\n",
      "Funds: 9700\n",
      "8 roll was 1-50, you lose.\n",
      "Funds: 9600\n",
      "28 roll was 1-50, you lose.\n",
      "Funds: 9500\n",
      "50 roll was 1-50, you lose.\n",
      "Funds: 9400\n",
      "90 roll was 51-99, you win! *pretty lights flash* (play more!)\n",
      "Funds: 9500\n",
      "35 roll was 1-50, you lose.\n",
      "Funds: 9400\n",
      "4 roll was 1-50, you lose.\n",
      "Funds: 9300\n",
      "32 roll was 1-50, you lose.\n",
      "Funds: 9200\n",
      "67 roll was 51-99, you win! *pretty lights flash* (play more!)\n",
      "Funds: 9300\n",
      "97 roll was 51-99, you win! *pretty lights flash* (play more!)\n",
      "Funds: 9400\n",
      "83 roll was 51-99, you win! *pretty lights flash* (play more!)\n",
      "Funds: 9500\n",
      "15 roll was 1-50, you lose.\n",
      "Funds: 9400\n",
      "77 roll was 51-99, you win! *pretty lights flash* (play more!)\n",
      "Funds: 9500\n",
      "63 roll was 51-99, you win! *pretty lights flash* (play more!)\n",
      "Funds: 9600\n",
      "4 roll was 1-50, you lose.\n",
      "Funds: 9500\n",
      "82 roll was 51-99, you win! *pretty lights flash* (play more!)\n",
      "Funds: 9600\n",
      "32 roll was 1-50, you lose.\n",
      "Funds: 9500\n",
      "82 roll was 51-99, you win! *pretty lights flash* (play more!)\n",
      "Funds: 9600\n",
      "92 roll was 51-99, you win! *pretty lights flash* (play more!)\n",
      "Funds: 9700\n",
      "6 roll was 1-50, you lose.\n",
      "Funds: 9600\n",
      "7 roll was 1-50, you lose.\n",
      "Funds: 9500\n",
      "49 roll was 1-50, you lose.\n",
      "Funds: 9400\n",
      "75 roll was 51-99, you win! *pretty lights flash* (play more!)\n",
      "Funds: 9500\n",
      "5 roll was 1-50, you lose.\n",
      "Funds: 9400\n",
      "97 roll was 51-99, you win! *pretty lights flash* (play more!)\n",
      "Funds: 9500\n",
      "87 roll was 51-99, you win! *pretty lights flash* (play more!)\n",
      "Funds: 9600\n",
      "63 roll was 51-99, you win! *pretty lights flash* (play more!)\n",
      "Funds: 9700\n",
      "68 roll was 51-99, you win! *pretty lights flash* (play more!)\n",
      "Funds: 9800\n",
      "37 roll was 1-50, you lose.\n",
      "Funds: 9700\n",
      "32 roll was 1-50, you lose.\n",
      "Funds: 9600\n",
      "69 roll was 51-99, you win! *pretty lights flash* (play more!)\n",
      "Funds: 9700\n",
      "71 roll was 51-99, you win! *pretty lights flash* (play more!)\n",
      "Funds: 9800\n",
      "22 roll was 1-50, you lose.\n",
      "Funds: 9700\n",
      "7 roll was 1-50, you lose.\n",
      "Funds: 9600\n",
      "74 roll was 51-99, you win! *pretty lights flash* (play more!)\n",
      "Funds: 9700\n",
      "91 roll was 51-99, you win! *pretty lights flash* (play more!)\n",
      "Funds: 9800\n",
      "35 roll was 1-50, you lose.\n",
      "Funds: 9700\n",
      "21 roll was 1-50, you lose.\n",
      "Funds: 9600\n"
     ]
    }
   ],
   "source": [
    "import random\n",
    "\n",
    "\n",
    "# let us go ahead and change this to return a simple win/loss\n",
    "def rollDice():\n",
    "    roll = random.randint(1,100)\n",
    "\n",
    "    if roll == 100:\n",
    "        print (roll,'roll was 100, you lose. What are the odds?! Play again!')\n",
    "        return False\n",
    "    elif roll <= 50:\n",
    "        print (roll,'roll was 1-50, you lose.')\n",
    "        return False\n",
    "    elif 100 > roll >= 50:\n",
    "        print (roll,'roll was 51-99, you win! *pretty lights flash* (play more!)')\n",
    "        return True\n",
    "\n",
    "\n",
    "'''\n",
    "Simple bettor, betting the same amount each time.\n",
    "'''\n",
    "def simple_bettor(funds,initial_wager,wager_count):\n",
    "    value = funds\n",
    "    wager = initial_wager\n",
    "\n",
    "    currentWager = 0\n",
    "\n",
    "    while currentWager < wager_count:\n",
    "        if rollDice():\n",
    "            value += wager\n",
    "        else:\n",
    "            value -= wager\n",
    "\n",
    "        currentWager += 1\n",
    "        print ('Funds:', value)\n",
    "\n",
    "\n",
    "\n",
    "simple_bettor(10000,100,100)"
   ]
  },
  {
   "cell_type": "code",
   "execution_count": 51,
   "metadata": {},
   "outputs": [
    {
     "name": "stdout",
     "output_type": "stream",
     "text": [
      "[14, 14, 15, 18, 21]\n",
      "7\n",
      "7\n",
      "13\n",
      "7\n"
     ]
    }
   ],
   "source": [
    "def median(num):\n",
    "    N = len(num)\n",
    "    if N%2 == 0:\n",
    "        med = (num[N//2-1]+num[N//2])/2\n",
    "    else:\n",
    "        med = num[N//2]\n",
    "    return med    \n",
    "\n",
    "n = 10\n",
    "nums = [3, 7, 8, 5, 12, 14, 21, 15, 18, 14]\n",
    "nums.sort()\n",
    "med_x = median(nums)\n",
    "\n",
    "if n%2==0:\n",
    "    small = nums[0:n//2]\n",
    "    big = nums[n//2:]\n",
    "else:\n",
    "    small = nums[0:n//2]\n",
    "    big = nums[n//2+1:]\n",
    "print(big)\n",
    "U2 = median(big)\n",
    "print(U2)\n",
    "L2 = median(small)\n",
    "print(int(L2))\n",
    "print(int(med_x))\n",
    "print(int(U2))"
   ]
  },
  {
   "cell_type": "code",
   "execution_count": 52,
   "metadata": {},
   "outputs": [
    {
     "data": {
      "text/plain": [
       "7"
      ]
     },
     "execution_count": 52,
     "metadata": {},
     "output_type": "execute_result"
    }
   ],
   "source": [
    "median([14, 14, 15, 18, 21])"
   ]
  },
  {
   "cell_type": "code",
   "execution_count": 53,
   "metadata": {},
   "outputs": [
    {
     "data": {
      "text/plain": [
       "7"
      ]
     },
     "execution_count": 53,
     "metadata": {},
     "output_type": "execute_result"
    }
   ],
   "source": [
    "median(big)"
   ]
  },
  {
   "cell_type": "code",
   "execution_count": 54,
   "metadata": {},
   "outputs": [
    {
     "data": {
      "text/plain": [
       "5"
      ]
     },
     "execution_count": 54,
     "metadata": {},
     "output_type": "execute_result"
    }
   ],
   "source": [
    "len(big)"
   ]
  },
  {
   "cell_type": "code",
   "execution_count": 55,
   "metadata": {},
   "outputs": [
    {
     "data": {
      "text/plain": [
       "1"
      ]
     },
     "execution_count": 55,
     "metadata": {},
     "output_type": "execute_result"
    }
   ],
   "source": [
    "5%2"
   ]
  },
  {
   "cell_type": "code",
   "execution_count": 57,
   "metadata": {},
   "outputs": [
    {
     "data": {
      "text/plain": [
       "2"
      ]
     },
     "execution_count": 57,
     "metadata": {},
     "output_type": "execute_result"
    }
   ],
   "source": [
    "5//2"
   ]
  },
  {
   "cell_type": "code",
   "execution_count": 58,
   "metadata": {},
   "outputs": [
    {
     "data": {
      "text/plain": [
       "15"
      ]
     },
     "execution_count": 58,
     "metadata": {},
     "output_type": "execute_result"
    }
   ],
   "source": [
    "big[2]"
   ]
  },
  {
   "cell_type": "code",
   "execution_count": 59,
   "metadata": {},
   "outputs": [],
   "source": [
    "N = len(big)"
   ]
  },
  {
   "cell_type": "code",
   "execution_count": 64,
   "metadata": {},
   "outputs": [
    {
     "name": "stdout",
     "output_type": "stream",
     "text": [
      "im here, odd\n"
     ]
    }
   ],
   "source": [
    "if N%2 == 0:\n",
    "        med = (num[N//2-1]+num[N//2])/2\n",
    "        print('im here, even')\n",
    "else:\n",
    "        med = nums[N//2]\n",
    "        print('im here, odd')"
   ]
  },
  {
   "cell_type": "code",
   "execution_count": 66,
   "metadata": {},
   "outputs": [
    {
     "data": {
      "text/plain": [
       "2"
      ]
     },
     "execution_count": 66,
     "metadata": {},
     "output_type": "execute_result"
    }
   ],
   "source": [
    "N//2"
   ]
  },
  {
   "cell_type": "code",
   "execution_count": 74,
   "metadata": {},
   "outputs": [],
   "source": [
    "num_list=['6','12', '8', '10', '20', '16']"
   ]
  },
  {
   "cell_type": "code",
   "execution_count": 83,
   "metadata": {},
   "outputs": [],
   "source": [
    "num_str=[]\n",
    "num_str.extend((num_list[1],)*5)\n"
   ]
  },
  {
   "cell_type": "code",
   "execution_count": 84,
   "metadata": {},
   "outputs": [
    {
     "data": {
      "text/plain": [
       "['12', '12', '12', '12', '12']"
      ]
     },
     "execution_count": 84,
     "metadata": {},
     "output_type": "execute_result"
    }
   ],
   "source": [
    "num_str"
   ]
  },
  {
   "cell_type": "code",
   "execution_count": null,
   "metadata": {},
   "outputs": [],
   "source": []
  }
 ],
 "metadata": {
  "kernelspec": {
   "display_name": "Python 3",
   "language": "python",
   "name": "python3"
  },
  "language_info": {
   "codemirror_mode": {
    "name": "ipython",
    "version": 3
   },
   "file_extension": ".py",
   "mimetype": "text/x-python",
   "name": "python",
   "nbconvert_exporter": "python",
   "pygments_lexer": "ipython3",
   "version": "3.7.5"
  }
 },
 "nbformat": 4,
 "nbformat_minor": 2
}
