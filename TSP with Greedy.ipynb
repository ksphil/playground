{
 "cells": [
  {
   "cell_type": "markdown",
   "metadata": {},
   "source": [
    "## Taveling Salesman's Problem with Greedy Algorithm"
   ]
  },
  {
   "cell_type": "code",
   "execution_count": 1,
   "metadata": {},
   "outputs": [],
   "source": [
    "import numpy as np \n",
    "\n",
    "dist = [[0,13,24,32,27],\n",
    "        [13,0,24,36,33],\n",
    "        [24,24,0,25,18],\n",
    "        [32,36,25,0,26],\n",
    "        [27,33,18,26,0]]\n"
   ]
  },
  {
   "cell_type": "code",
   "execution_count": 2,
   "metadata": {},
   "outputs": [],
   "source": [
    "for i in range(len(dist)):\n",
    "    dist[i][i] = 100"
   ]
  },
  {
   "cell_type": "code",
   "execution_count": 3,
   "metadata": {},
   "outputs": [],
   "source": [
    "dist_temp = dist\n",
    "route = list(np.zeros(len(dist)))\n",
    "start = 4\n",
    "route[0]=start\n",
    "Distance = 0"
   ]
  },
  {
   "cell_type": "code",
   "execution_count": 4,
   "metadata": {},
   "outputs": [],
   "source": [
    "for i in range(len(dist)-1):\n",
    "    next = dist_temp[start].index(min(dist_temp[start]))\n",
    "    route[i+1]=next\n",
    "    Distance += min(dist_temp[start])\n",
    "    dist_temp[start] = list(np.ones(len(dist))*100)\n",
    "    dist_temp=np.array(dist_temp).T.tolist()\n",
    "    dist_temp[start] = list(np.ones(len(dist))*100)\n",
    "    start = next"
   ]
  },
  {
   "cell_type": "code",
   "execution_count": 5,
   "metadata": {},
   "outputs": [
    {
     "name": "stdout",
     "output_type": "stream",
     "text": [
      "[4, 2, 0, 1, 3]\n",
      "Tatal distance = 191\n"
     ]
    }
   ],
   "source": [
    "print(route)\n",
    "Distance += dist[route[-1]][start]\n",
    "print(\"Tatal distance = %.f\" %Distance)"
   ]
  }
 ],
 "metadata": {
  "kernelspec": {
   "display_name": "Python 3",
   "language": "python",
   "name": "python3"
  },
  "language_info": {
   "codemirror_mode": {
    "name": "ipython",
    "version": 3
   },
   "file_extension": ".py",
   "mimetype": "text/x-python",
   "name": "python",
   "nbconvert_exporter": "python",
   "pygments_lexer": "ipython3",
   "version": "3.7.5"
  }
 },
 "nbformat": 4,
 "nbformat_minor": 4
}
